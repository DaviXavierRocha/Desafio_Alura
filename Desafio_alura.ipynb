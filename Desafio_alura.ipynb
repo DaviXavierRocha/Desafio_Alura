{
  "nbformat": 4,
  "nbformat_minor": 0,
  "metadata": {
    "colab": {
      "provenance": [],
      "authorship_tag": "ABX9TyMs5vjK7qQDsPPgsk5YStiJ",
      "include_colab_link": true
    },
    "kernelspec": {
      "name": "python3",
      "display_name": "Python 3"
    },
    "language_info": {
      "name": "python"
    }
  },
  "cells": [
    {
      "cell_type": "markdown",
      "metadata": {
        "id": "view-in-github",
        "colab_type": "text"
      },
      "source": [
        "<a href=\"https://colab.research.google.com/github/DaviXavierRocha/Desafio_Alura/blob/main/Desafio_alura.ipynb\" target=\"_parent\"><img src=\"https://colab.research.google.com/assets/colab-badge.svg\" alt=\"Open In Colab\"/></a>"
      ]
    },
    {
      "cell_type": "markdown",
      "source": [
        "Instalação da biblioteca do gemini a partir do python"
      ],
      "metadata": {
        "id": "aWS7O1r9gkhl"
      }
    },
    {
      "cell_type": "code",
      "execution_count": 20,
      "metadata": {
        "id": "LrgyYNOObHTl"
      },
      "outputs": [],
      "source": [
        "!pip install -q -U google-generativeai"
      ]
    },
    {
      "cell_type": "markdown",
      "source": [
        "Importação do gemini e criação de um \"apelido\" para facilitar a instanciação do mesmo, bem como a configuração da API Key."
      ],
      "metadata": {
        "id": "6nX7R_RJgx4B"
      }
    },
    {
      "cell_type": "code",
      "source": [
        "import google.generativeai as genai\n",
        "from google.colab import userdata\n",
        "api_key = userdata.get('key')\n",
        "genai.configure(api_key=api_key)"
      ],
      "metadata": {
        "id": "uoa6jUOBb31k"
      },
      "execution_count": 27,
      "outputs": []
    },
    {
      "cell_type": "markdown",
      "source": [
        "Configurações genericas de temperatura e filtros do Gemini"
      ],
      "metadata": {
        "id": "wj3ZenqWhPvk"
      }
    },
    {
      "cell_type": "code",
      "source": [
        "config= {\n",
        "    \"temperature\":1,\n",
        "    \"candidate_count\":1\n",
        "}"
      ],
      "metadata": {
        "id": "ehGB5PeNcGPl"
      },
      "execution_count": 28,
      "outputs": []
    },
    {
      "cell_type": "markdown",
      "source": [
        "Modelo a ser escolhido e inicializado:"
      ],
      "metadata": {
        "id": "5UWNcBLWhgnk"
      }
    },
    {
      "cell_type": "code",
      "source": [
        "model=genai.GenerativeModel(model_name='gemini-1.0-pro', generation_config=config)"
      ],
      "metadata": {
        "id": "tCylHTE1hd3k"
      },
      "execution_count": 29,
      "outputs": []
    },
    {
      "cell_type": "markdown",
      "source": [
        "Criação da conversa propriamente dita e seu histórico"
      ],
      "metadata": {
        "id": "LpRdtGkulBZL"
      }
    },
    {
      "cell_type": "code",
      "source": [
        "chat=model.start_chat(history=[])"
      ],
      "metadata": {
        "id": "7gCmdK6kjRdV"
      },
      "execution_count": 30,
      "outputs": []
    },
    {
      "cell_type": "code",
      "source": [
        "print('para encerrar a coversação basta digitar \"desejo encerrar a conversa\"')\n",
        "print('\\n', 'Informe a língua na qual você precisa de ajuda e/ou deseja iniciar conversação:', '\\n')\n",
        "entrada = input(\"Você: \")\n",
        "chat.send_message('iniciar uma conversa informal no idioma solicitado' + entrada + 'O Gemini deverá verificar a entrada de dados em busca de erros de entrada. Serão considerados erros de entrada: inputs em outras linguagens nesse caso de palavras ou expressões em outras liguagens o gemini deverá traduzir dizendo \"você quis dizer:\" e a expressão traduzida na linguagem solicitada nesse input')\n",
        "while entrada != \"desejo encerrar a conversa\":\n",
        "  response=chat.send_message(entrada)\n",
        "  print(\"polygloth: \", response.text,'/n')\n",
        "  entrada = input(\"Você: \")"
      ],
      "metadata": {
        "colab": {
          "base_uri": "https://localhost:8080/",
          "height": 305
        },
        "id": "tW2gx8qJlrQb",
        "outputId": "a17f0300-be2e-44fd-86ea-9c2bf678716a"
      },
      "execution_count": 31,
      "outputs": [
        {
          "name": "stdout",
          "output_type": "stream",
          "text": [
            "para encerrar a coversação basta digitar \"desejo encerrar a conversa\"\n",
            "\n",
            " Informe a língua na qual você precisa de ajuda e/ou deseja iniciar conversação: \n",
            "\n",
            "Você: inglês\n",
            "polygloth:  Gemini should check the data entry for input errors.\n",
            "\n",
            "Input errors include:\n",
            "\n",
            "* Input in other languages, in which case Gemini will translate the word or expression into the requested language, saying, \"Did you mean:\" and the translated expression. /n\n",
            "Você: how are you?\n",
            "polygloth:  I am well, thank you. How are you doing today? /n\n",
            "Você: im very well\n",
            "polygloth:  I am glad to hear that. I hope you continue to have a good day. /n\n",
            "Você: desejo encerrar a conversa\n"
          ]
        }
      ]
    }
  ]
}